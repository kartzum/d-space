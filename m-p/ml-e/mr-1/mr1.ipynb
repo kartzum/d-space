{
 "cells": [
  {
   "cell_type": "code",
   "execution_count": 4,
   "metadata": {},
   "outputs": [],
   "source": [
    "#"
   ]
  },
  {
   "cell_type": "code",
   "execution_count": null,
   "metadata": {},
   "outputs": [],
   "source": [
    "# https://www.kaggle.com/myonin/music-recommendation-random-forest-xgboost"
   ]
  },
  {
   "cell_type": "code",
   "execution_count": 3,
   "metadata": {},
   "outputs": [],
   "source": [
    "from sklearn import cross_validation, grid_search, metrics, ensemble\n",
    "import xgboost as xgb\n",
    "import numpy as np\n",
    "import pandas as pd\n",
    "import seaborn as sns\n",
    "import matplotlib.pyplot as plt\n",
    "import matplotlib as mpl\n",
    "import warnings\n",
    "warnings.filterwarnings('ignore')\n",
    "plt.style.use('ggplot')"
   ]
  },
  {
   "cell_type": "code",
   "execution_count": 5,
   "metadata": {},
   "outputs": [],
   "source": [
    "#"
   ]
  },
  {
   "cell_type": "code",
   "execution_count": 6,
   "metadata": {},
   "outputs": [],
   "source": [
    "df = pd.read_csv('./train.csv')"
   ]
  },
  {
   "cell_type": "code",
   "execution_count": 7,
   "metadata": {},
   "outputs": [],
   "source": [
    "df_sample = df.sample(frac=0.01)"
   ]
  },
  {
   "cell_type": "code",
   "execution_count": 9,
   "metadata": {},
   "outputs": [],
   "source": [
    "songs = pd.read_csv('./songs.csv')"
   ]
  },
  {
   "cell_type": "code",
   "execution_count": 12,
   "metadata": {},
   "outputs": [],
   "source": [
    "df_songs = pd.merge(df_sample, songs, on='song_id', how='left')"
   ]
  },
  {
   "cell_type": "code",
   "execution_count": 13,
   "metadata": {},
   "outputs": [],
   "source": [
    "members = pd.read_csv('./members.csv')"
   ]
  },
  {
   "cell_type": "code",
   "execution_count": 14,
   "metadata": {},
   "outputs": [],
   "source": [
    "df_songs_members = pd.merge(df_songs, members, on='msno', how='left')"
   ]
  },
  {
   "cell_type": "code",
   "execution_count": 15,
   "metadata": {},
   "outputs": [],
   "source": [
    "#"
   ]
  },
  {
   "cell_type": "code",
   "execution_count": 16,
   "metadata": {},
   "outputs": [
    {
     "name": "stdout",
     "output_type": "stream",
     "text": [
      "<class 'pandas.core.frame.DataFrame'>\n",
      "Int64Index: 73774 entries, 0 to 73773\n",
      "Data columns (total 18 columns):\n",
      "msno                      73774 non-null object\n",
      "song_id                   73774 non-null object\n",
      "source_system_tab         73531 non-null object\n",
      "source_screen_name        69609 non-null object\n",
      "source_type               73552 non-null object\n",
      "target                    73774 non-null int64\n",
      "song_length               73774 non-null int64\n",
      "genre_ids                 72568 non-null object\n",
      "artist_name               73774 non-null object\n",
      "composer                  56936 non-null object\n",
      "lyricist                  41966 non-null object\n",
      "language                  73773 non-null float64\n",
      "city                      73774 non-null int64\n",
      "bd                        73774 non-null int64\n",
      "gender                    44027 non-null object\n",
      "registered_via            73774 non-null int64\n",
      "registration_init_time    73774 non-null int64\n",
      "expiration_date           73774 non-null int64\n",
      "dtypes: float64(1), int64(7), object(10)\n",
      "memory usage: 10.7+ MB\n"
     ]
    }
   ],
   "source": [
    "df_songs_members.info()"
   ]
  },
  {
   "cell_type": "code",
   "execution_count": 18,
   "metadata": {},
   "outputs": [
    {
     "data": {
      "text/plain": [
       "msno                       0.000000\n",
       "song_id                    0.000000\n",
       "source_system_tab          0.329384\n",
       "source_screen_name         5.645620\n",
       "source_type                0.300919\n",
       "target                     0.000000\n",
       "song_length                0.000000\n",
       "genre_ids                  1.634722\n",
       "artist_name                0.000000\n",
       "composer                  22.823759\n",
       "lyricist                  43.115461\n",
       "language                   0.001355\n",
       "city                       0.000000\n",
       "bd                         0.000000\n",
       "gender                    40.321794\n",
       "registered_via             0.000000\n",
       "registration_init_time     0.000000\n",
       "expiration_date            0.000000\n",
       "dtype: float64"
      ]
     },
     "execution_count": 18,
     "metadata": {},
     "output_type": "execute_result"
    }
   ],
   "source": [
    "df_songs_members.isnull().sum()/df_songs_members.isnull().count()*100"
   ]
  },
  {
   "cell_type": "code",
   "execution_count": 20,
   "metadata": {},
   "outputs": [],
   "source": [
    "for i in df_songs_members.select_dtypes(include=['object']).columns:\n",
    "    df_songs_members[i][df_songs_members[i].isnull()] = 'unknown'"
   ]
  },
  {
   "cell_type": "code",
   "execution_count": 21,
   "metadata": {},
   "outputs": [],
   "source": [
    "df_songs_members = df_songs_members.fillna(value=0)"
   ]
  },
  {
   "cell_type": "code",
   "execution_count": 22,
   "metadata": {},
   "outputs": [],
   "source": [
    "df_songs_members.registration_init_time = pd.to_datetime(df_songs_members.registration_init_time, format='%Y%m%d', errors='ignore')\n",
    "df_songs_members['registration_init_time_year'] = df_songs_members['registration_init_time'].dt.year\n",
    "df_songs_members['registration_init_time_month'] = df_songs_members['registration_init_time'].dt.month\n",
    "df_songs_members['registration_init_time_day'] = df_songs_members['registration_init_time'].dt.day"
   ]
  },
  {
   "cell_type": "code",
   "execution_count": 23,
   "metadata": {},
   "outputs": [],
   "source": [
    "df_songs_members.expiration_date = pd.to_datetime(df_songs_members.expiration_date,  format='%Y%m%d', errors='ignore')\n",
    "df_songs_members['expiration_date_year'] = df_songs_members['expiration_date'].dt.year\n",
    "df_songs_members['expiration_date_month'] = df_songs_members['expiration_date'].dt.month\n",
    "df_songs_members['expiration_date_day'] = df_songs_members['expiration_date'].dt.day"
   ]
  },
  {
   "cell_type": "code",
   "execution_count": 24,
   "metadata": {},
   "outputs": [
    {
     "data": {
      "text/html": [
       "<div>\n",
       "<style scoped>\n",
       "    .dataframe tbody tr th:only-of-type {\n",
       "        vertical-align: middle;\n",
       "    }\n",
       "\n",
       "    .dataframe tbody tr th {\n",
       "        vertical-align: top;\n",
       "    }\n",
       "\n",
       "    .dataframe thead th {\n",
       "        text-align: right;\n",
       "    }\n",
       "</style>\n",
       "<table border=\"1\" class=\"dataframe\">\n",
       "  <thead>\n",
       "    <tr style=\"text-align: right;\">\n",
       "      <th></th>\n",
       "      <th>msno</th>\n",
       "      <th>song_id</th>\n",
       "      <th>source_system_tab</th>\n",
       "      <th>source_screen_name</th>\n",
       "      <th>source_type</th>\n",
       "      <th>target</th>\n",
       "      <th>song_length</th>\n",
       "      <th>genre_ids</th>\n",
       "      <th>artist_name</th>\n",
       "      <th>composer</th>\n",
       "      <th>...</th>\n",
       "      <th>gender</th>\n",
       "      <th>registered_via</th>\n",
       "      <th>registration_init_time</th>\n",
       "      <th>expiration_date</th>\n",
       "      <th>registration_init_time_year</th>\n",
       "      <th>registration_init_time_month</th>\n",
       "      <th>registration_init_time_day</th>\n",
       "      <th>expiration_date_year</th>\n",
       "      <th>expiration_date_month</th>\n",
       "      <th>expiration_date_day</th>\n",
       "    </tr>\n",
       "  </thead>\n",
       "  <tbody>\n",
       "    <tr>\n",
       "      <th>0</th>\n",
       "      <td>uhovNdbWCJ9XX96mEEcSOX//np6kjxBILpotKtyNdY0=</td>\n",
       "      <td>OAoO256Lt8HoWSkMaFH1jLdTaSLK+8izthhDLJ0MbkU=</td>\n",
       "      <td>my library</td>\n",
       "      <td>Local playlist more</td>\n",
       "      <td>local-library</td>\n",
       "      <td>1</td>\n",
       "      <td>229538</td>\n",
       "      <td>1609</td>\n",
       "      <td>Linkin Park</td>\n",
       "      <td>unknown</td>\n",
       "      <td>...</td>\n",
       "      <td>male</td>\n",
       "      <td>9</td>\n",
       "      <td>2010-07-13</td>\n",
       "      <td>2017-09-29</td>\n",
       "      <td>2010</td>\n",
       "      <td>7</td>\n",
       "      <td>13</td>\n",
       "      <td>2017</td>\n",
       "      <td>9</td>\n",
       "      <td>29</td>\n",
       "    </tr>\n",
       "    <tr>\n",
       "      <th>1</th>\n",
       "      <td>tVsxyPgF7Gv3lvlmCLTteUdVLWsEqhZg9rK87Sof5rQ=</td>\n",
       "      <td>byuTz6ji9Oac1y7eFS+ZrivnA1rND9Vos9exw+6VpGQ=</td>\n",
       "      <td>discover</td>\n",
       "      <td>Discover Chart</td>\n",
       "      <td>online-playlist</td>\n",
       "      <td>1</td>\n",
       "      <td>197799</td>\n",
       "      <td>1259</td>\n",
       "      <td>Wiley</td>\n",
       "      <td>unknown</td>\n",
       "      <td>...</td>\n",
       "      <td>female</td>\n",
       "      <td>9</td>\n",
       "      <td>2010-10-16</td>\n",
       "      <td>2017-09-09</td>\n",
       "      <td>2010</td>\n",
       "      <td>10</td>\n",
       "      <td>16</td>\n",
       "      <td>2017</td>\n",
       "      <td>9</td>\n",
       "      <td>9</td>\n",
       "    </tr>\n",
       "    <tr>\n",
       "      <th>2</th>\n",
       "      <td>UKqufH+8HxG0l4tvAyL4OqU9UGQRL4d5BVTFKUAp1jc=</td>\n",
       "      <td>Csi8/hzmKAaLcdkyUG1oSlJexTcDOvQukhKOs2ETe00=</td>\n",
       "      <td>discover</td>\n",
       "      <td>unknown</td>\n",
       "      <td>online-playlist</td>\n",
       "      <td>0</td>\n",
       "      <td>243983</td>\n",
       "      <td>458</td>\n",
       "      <td>郁可唯 (Yisa Yu)</td>\n",
       "      <td>查查\\NU</td>\n",
       "      <td>...</td>\n",
       "      <td>female</td>\n",
       "      <td>9</td>\n",
       "      <td>2010-10-25</td>\n",
       "      <td>2017-09-23</td>\n",
       "      <td>2010</td>\n",
       "      <td>10</td>\n",
       "      <td>25</td>\n",
       "      <td>2017</td>\n",
       "      <td>9</td>\n",
       "      <td>23</td>\n",
       "    </tr>\n",
       "    <tr>\n",
       "      <th>3</th>\n",
       "      <td>zJ5AqcGL4nS12S42aM5K9O1R1I8avNnVfpfFEUBxkxc=</td>\n",
       "      <td>9W/H8tPBKQ7VWmBctuQ6RabciYdr1l+/kg1YPDcPOlU=</td>\n",
       "      <td>my library</td>\n",
       "      <td>Local playlist more</td>\n",
       "      <td>local-library</td>\n",
       "      <td>1</td>\n",
       "      <td>260493</td>\n",
       "      <td>458</td>\n",
       "      <td>Eric 周興哲</td>\n",
       "      <td>Eric周興哲</td>\n",
       "      <td>...</td>\n",
       "      <td>male</td>\n",
       "      <td>4</td>\n",
       "      <td>2016-10-23</td>\n",
       "      <td>2017-09-07</td>\n",
       "      <td>2016</td>\n",
       "      <td>10</td>\n",
       "      <td>23</td>\n",
       "      <td>2017</td>\n",
       "      <td>9</td>\n",
       "      <td>7</td>\n",
       "    </tr>\n",
       "    <tr>\n",
       "      <th>4</th>\n",
       "      <td>XPkr7W1r2v/nj+BuUMInQFBrRNNVeZ/uPzBGIS5/Rq4=</td>\n",
       "      <td>EH+nzRuSscqbP1Xd8ulzTMCGLEjqdzdxCaR8Fgyh6VY=</td>\n",
       "      <td>search</td>\n",
       "      <td>Search</td>\n",
       "      <td>song</td>\n",
       "      <td>0</td>\n",
       "      <td>229537</td>\n",
       "      <td>1259</td>\n",
       "      <td>Wiz Khalifa</td>\n",
       "      <td>unknown</td>\n",
       "      <td>...</td>\n",
       "      <td>unknown</td>\n",
       "      <td>7</td>\n",
       "      <td>2013-11-28</td>\n",
       "      <td>2017-09-23</td>\n",
       "      <td>2013</td>\n",
       "      <td>11</td>\n",
       "      <td>28</td>\n",
       "      <td>2017</td>\n",
       "      <td>9</td>\n",
       "      <td>23</td>\n",
       "    </tr>\n",
       "  </tbody>\n",
       "</table>\n",
       "<p>5 rows × 24 columns</p>\n",
       "</div>"
      ],
      "text/plain": [
       "                                           msno  \\\n",
       "0  uhovNdbWCJ9XX96mEEcSOX//np6kjxBILpotKtyNdY0=   \n",
       "1  tVsxyPgF7Gv3lvlmCLTteUdVLWsEqhZg9rK87Sof5rQ=   \n",
       "2  UKqufH+8HxG0l4tvAyL4OqU9UGQRL4d5BVTFKUAp1jc=   \n",
       "3  zJ5AqcGL4nS12S42aM5K9O1R1I8avNnVfpfFEUBxkxc=   \n",
       "4  XPkr7W1r2v/nj+BuUMInQFBrRNNVeZ/uPzBGIS5/Rq4=   \n",
       "\n",
       "                                        song_id source_system_tab  \\\n",
       "0  OAoO256Lt8HoWSkMaFH1jLdTaSLK+8izthhDLJ0MbkU=        my library   \n",
       "1  byuTz6ji9Oac1y7eFS+ZrivnA1rND9Vos9exw+6VpGQ=          discover   \n",
       "2  Csi8/hzmKAaLcdkyUG1oSlJexTcDOvQukhKOs2ETe00=          discover   \n",
       "3  9W/H8tPBKQ7VWmBctuQ6RabciYdr1l+/kg1YPDcPOlU=        my library   \n",
       "4  EH+nzRuSscqbP1Xd8ulzTMCGLEjqdzdxCaR8Fgyh6VY=            search   \n",
       "\n",
       "    source_screen_name      source_type  target  song_length genre_ids  \\\n",
       "0  Local playlist more    local-library       1       229538      1609   \n",
       "1       Discover Chart  online-playlist       1       197799      1259   \n",
       "2              unknown  online-playlist       0       243983       458   \n",
       "3  Local playlist more    local-library       1       260493       458   \n",
       "4               Search             song       0       229537      1259   \n",
       "\n",
       "     artist_name composer  ...   gender  registered_via  \\\n",
       "0    Linkin Park  unknown  ...     male               9   \n",
       "1          Wiley  unknown  ...   female               9   \n",
       "2  郁可唯 (Yisa Yu)    查查\\NU  ...   female               9   \n",
       "3       Eric 周興哲  Eric周興哲  ...     male               4   \n",
       "4    Wiz Khalifa  unknown  ...  unknown               7   \n",
       "\n",
       "   registration_init_time  expiration_date registration_init_time_year  \\\n",
       "0              2010-07-13       2017-09-29                        2010   \n",
       "1              2010-10-16       2017-09-09                        2010   \n",
       "2              2010-10-25       2017-09-23                        2010   \n",
       "3              2016-10-23       2017-09-07                        2016   \n",
       "4              2013-11-28       2017-09-23                        2013   \n",
       "\n",
       "   registration_init_time_month registration_init_time_day  \\\n",
       "0                             7                         13   \n",
       "1                            10                         16   \n",
       "2                            10                         25   \n",
       "3                            10                         23   \n",
       "4                            11                         28   \n",
       "\n",
       "  expiration_date_year  expiration_date_month  expiration_date_day  \n",
       "0                 2017                      9                   29  \n",
       "1                 2017                      9                    9  \n",
       "2                 2017                      9                   23  \n",
       "3                 2017                      9                    7  \n",
       "4                 2017                      9                   23  \n",
       "\n",
       "[5 rows x 24 columns]"
      ]
     },
     "execution_count": 24,
     "metadata": {},
     "output_type": "execute_result"
    }
   ],
   "source": [
    "df_songs_members.head()"
   ]
  },
  {
   "cell_type": "code",
   "execution_count": 25,
   "metadata": {},
   "outputs": [],
   "source": [
    "df_songs_members['registration_init_time'] = df_songs_members['registration_init_time'].astype('category')\n",
    "df_songs_members['expiration_date'] = df_songs_members['expiration_date'].astype('category')\n"
   ]
  },
  {
   "cell_type": "code",
   "execution_count": 26,
   "metadata": {},
   "outputs": [],
   "source": [
    "for col in df_songs_members.select_dtypes(include=['object']).columns:\n",
    "    df_songs_members[col] = df_songs_members[col].astype('category')"
   ]
  },
  {
   "cell_type": "code",
   "execution_count": 27,
   "metadata": {},
   "outputs": [],
   "source": [
    "for col in df_songs_members.select_dtypes(include=['category']).columns:\n",
    "    df_songs_members[col] = df_songs_members[col].cat.codes"
   ]
  },
  {
   "cell_type": "code",
   "execution_count": 28,
   "metadata": {},
   "outputs": [
    {
     "data": {
      "image/png": "[encoded data removed]",
      "text/plain": [
       "<matplotlib.figure.Figure at 0x7f4a197b16d8>"
      ]
     },
     "metadata": {},
     "output_type": "display_data"
    }
   ],
   "source": [
    "plt.figure(figsize=[7,5])\n",
    "sns.heatmap(df_songs_members.corr())\n",
    "plt.show()"
   ]
  },
  {
   "cell_type": "code",
   "execution_count": 30,
   "metadata": {},
   "outputs": [],
   "source": [
    "df_songs_members = df_songs_members.drop(['expiration_date', 'lyricist'], 1)"
   ]
  },
  {
   "cell_type": "code",
   "execution_count": 31,
   "metadata": {},
   "outputs": [],
   "source": [
    "#"
   ]
  },
  {
   "cell_type": "code",
   "execution_count": 32,
   "metadata": {},
   "outputs": [],
   "source": [
    "model = ensemble.RandomForestClassifier(n_estimators=250, max_depth=25)"
   ]
  },
  {
   "cell_type": "code",
   "execution_count": 33,
   "metadata": {},
   "outputs": [
    {
     "data": {
      "text/plain": [
       "RandomForestClassifier(bootstrap=True, class_weight=None, criterion='gini',\n",
       "            max_depth=25, max_features='auto', max_leaf_nodes=None,\n",
       "            min_impurity_decrease=0.0, min_impurity_split=None,\n",
       "            min_samples_leaf=1, min_samples_split=2,\n",
       "            min_weight_fraction_leaf=0.0, n_estimators=250, n_jobs=1,\n",
       "            oob_score=False, random_state=None, verbose=0,\n",
       "            warm_start=False)"
      ]
     },
     "execution_count": 33,
     "metadata": {},
     "output_type": "execute_result"
    }
   ],
   "source": [
    "model.fit(df_songs_members[df_songs_members.columns[df_songs_members.columns != 'target']], df_songs_members.target)"
   ]
  },
  {
   "cell_type": "code",
   "execution_count": 34,
   "metadata": {},
   "outputs": [],
   "source": [
    "df_plot = pd.DataFrame({'features': df_songs_members.columns[df_songs_members.columns != 'target'],\n",
    "                        'importances': model.feature_importances_})\n",
    "df_plot = df_plot.sort_values('importances', ascending=False)"
   ]
  },
  {
   "cell_type": "code",
   "execution_count": 35,
   "metadata": {},
   "outputs": [
    {
     "data": {
      "image/png": "[encoded data removed]",
      "text/plain": [
       "<matplotlib.figure.Figure at 0x7f4a0a300d68>"
      ]
     },
     "metadata": {},
     "output_type": "display_data"
    }
   ],
   "source": [
    "plt.figure(figsize=[11,5])\n",
    "sns.barplot(x = df_plot.importances, y = df_plot.features)\n",
    "plt.title('Importances of Features Plot')\n",
    "plt.show()"
   ]
  },
  {
   "cell_type": "code",
   "execution_count": 36,
   "metadata": {},
   "outputs": [],
   "source": [
    "df_songs_members_ = df_songs_members.drop(df_plot.features[df_plot.importances < 0.04].tolist(), 1)"
   ]
  },
  {
   "cell_type": "code",
   "execution_count": 37,
   "metadata": {},
   "outputs": [
    {
     "data": {
      "text/plain": [
       "Index(['msno', 'song_id', 'source_screen_name', 'source_type', 'target',\n",
       "       'song_length', 'artist_name', 'composer', 'bd',\n",
       "       'registration_init_time', 'registration_init_time_month',\n",
       "       'registration_init_time_day', 'expiration_date_day'],\n",
       "      dtype='object')"
      ]
     },
     "execution_count": 37,
     "metadata": {},
     "output_type": "execute_result"
    }
   ],
   "source": [
    "df_songs_members_.columns"
   ]
  },
  {
   "cell_type": "code",
   "execution_count": 38,
   "metadata": {},
   "outputs": [],
   "source": [
    "#"
   ]
  },
  {
   "cell_type": "code",
   "execution_count": 39,
   "metadata": {},
   "outputs": [],
   "source": [
    "target = df_songs_members_.pop('target')"
   ]
  },
  {
   "cell_type": "code",
   "execution_count": 40,
   "metadata": {},
   "outputs": [],
   "source": [
    "train_data, test_data, train_labels, test_labels = cross_validation.train_test_split(df_songs_members_, target, test_size = 0.3)"
   ]
  },
  {
   "cell_type": "code",
   "execution_count": 41,
   "metadata": {},
   "outputs": [],
   "source": [
    "#"
   ]
  },
  {
   "cell_type": "code",
   "execution_count": 42,
   "metadata": {},
   "outputs": [],
   "source": [
    "model = xgb.XGBClassifier()"
   ]
  },
  {
   "cell_type": "code",
   "execution_count": 43,
   "metadata": {},
   "outputs": [],
   "source": [
    "parameters_grid = { 'learning_rate' : [0.1, 0.2, 0.5], 'max_depth' : [5, 10, 15], 'n_estimators' : [150, 250, 300], 'min_child_weight' : [3, 5, 10] }"
   ]
  },
  {
   "cell_type": "code",
   "execution_count": 44,
   "metadata": {},
   "outputs": [],
   "source": [
    "cv = cross_validation.StratifiedShuffleSplit(train_labels, n_iter = 3, test_size = 0.3)"
   ]
  },
  {
   "cell_type": "code",
   "execution_count": 45,
   "metadata": {},
   "outputs": [],
   "source": [
    "grid_cv = grid_search.RandomizedSearchCV(model, parameters_grid, scoring = 'accuracy', cv = cv)"
   ]
  },
  {
   "cell_type": "code",
   "execution_count": 46,
   "metadata": {},
   "outputs": [
    {
     "data": {
      "text/plain": [
       "RandomizedSearchCV(cv=StratifiedShuffleSplit(labels=[0 0 ... 0 1], n_iter=3, test_size=0.3, random_state=None),\n",
       "          error_score='raise',\n",
       "          estimator=XGBClassifier(base_score=0.5, colsample_bylevel=1, colsample_bytree=1,\n",
       "       gamma=0, learning_rate=0.1, max_delta_step=0, max_depth=3,\n",
       "       min_child_weight=1, missing=None, n_estimators=100, nthread=-1,\n",
       "       objective='binary:logistic', reg_alpha=0, reg_lambda=1,\n",
       "       scale_pos_weight=1, seed=0, silent=True, subsample=1),\n",
       "          fit_params={}, iid=True, n_iter=10, n_jobs=1,\n",
       "          param_distributions={'learning_rate': [0.1, 0.2, 0.5], 'max_depth': [5, 10, 15], 'n_estimators': [150, 250, 300], 'min_child_weight': [3, 5, 10]},\n",
       "          pre_dispatch='2*n_jobs', random_state=None, refit=True,\n",
       "          scoring='accuracy', verbose=0)"
      ]
     },
     "execution_count": 46,
     "metadata": {},
     "output_type": "execute_result"
    }
   ],
   "source": [
    "grid_cv.fit(train_data, train_labels)"
   ]
  },
  {
   "cell_type": "code",
   "execution_count": 48,
   "metadata": {},
   "outputs": [
    {
     "data": {
      "text/plain": [
       "XGBClassifier(base_score=0.5, colsample_bylevel=1, colsample_bytree=1,\n",
       "       gamma=0, learning_rate=0.1, max_delta_step=0, max_depth=5,\n",
       "       min_child_weight=3, missing=None, n_estimators=150, nthread=-1,\n",
       "       objective='binary:logistic', reg_alpha=0, reg_lambda=1,\n",
       "       scale_pos_weight=1, seed=0, silent=True, subsample=1)"
      ]
     },
     "execution_count": 48,
     "metadata": {},
     "output_type": "execute_result"
    }
   ],
   "source": [
    "grid_cv.best_estimator_"
   ]
  },
  {
   "cell_type": "code",
   "execution_count": 49,
   "metadata": {},
   "outputs": [],
   "source": [
    "#"
   ]
  },
  {
   "cell_type": "code",
   "execution_count": 50,
   "metadata": {},
   "outputs": [],
   "source": [
    "model_ = xgb.XGBClassifier(learning_rate=0.1, max_depth=15, min_child_weight=5, n_estimators=250)"
   ]
  },
  {
   "cell_type": "code",
   "execution_count": 51,
   "metadata": {},
   "outputs": [
    {
     "data": {
      "text/plain": [
       "XGBClassifier(base_score=0.5, colsample_bylevel=1, colsample_bytree=1,\n",
       "       gamma=0, learning_rate=0.1, max_delta_step=0, max_depth=15,\n",
       "       min_child_weight=5, missing=None, n_estimators=250, nthread=-1,\n",
       "       objective='binary:logistic', reg_alpha=0, reg_lambda=1,\n",
       "       scale_pos_weight=1, seed=0, silent=True, subsample=1)"
      ]
     },
     "execution_count": 51,
     "metadata": {},
     "output_type": "execute_result"
    }
   ],
   "source": [
    "model_.fit(train_data, train_labels)"
   ]
  },
  {
   "cell_type": "code",
   "execution_count": 52,
   "metadata": {},
   "outputs": [],
   "source": [
    "#"
   ]
  },
  {
   "cell_type": "code",
   "execution_count": 53,
   "metadata": {},
   "outputs": [],
   "source": [
    "predict_labels = model_.predict(test_data)"
   ]
  },
  {
   "cell_type": "code",
   "execution_count": 54,
   "metadata": {},
   "outputs": [
    {
     "name": "stdout",
     "output_type": "stream",
     "text": [
      "             precision    recall  f1-score   support\n",
      "\n",
      "          0       0.63      0.59      0.61     10992\n",
      "          1       0.62      0.66      0.64     11141\n",
      "\n",
      "avg / total       0.62      0.62      0.62     22133\n",
      "\n"
     ]
    }
   ],
   "source": [
    "print(metrics.classification_report(test_labels, predict_labels))"
   ]
  },
  {
   "cell_type": "code",
   "execution_count": null,
   "metadata": {},
   "outputs": [],
   "source": []
  },
  {
   "cell_type": "code",
   "execution_count": null,
   "metadata": {},
   "outputs": [],
   "source": []
  },
  {
   "cell_type": "code",
   "execution_count": null,
   "metadata": {},
   "outputs": [],
   "source": []
  }
 ],
 "metadata": {
  "kernelspec": {
   "display_name": "Anaconda's Python 3",
   "language": "python",
   "name": "anaconda"
  },
  "language_info": {
   "codemirror_mode": {
    "name": "ipython",
    "version": 3
   },
   "file_extension": ".py",
   "mimetype": "text/x-python",
   "name": "python",
   "nbconvert_exporter": "python",
   "pygments_lexer": "ipython3",
   "version": "3.6.1"
  }
 },
 "nbformat": 4,
 "nbformat_minor": 2
}
